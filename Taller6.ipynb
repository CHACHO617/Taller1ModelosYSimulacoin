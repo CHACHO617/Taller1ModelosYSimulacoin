{
  "cells": [
    {
      "cell_type": "markdown",
      "metadata": {
        "id": "XdLFFfx7Ar2A"
      },
      "source": [
        "# Ejercicio 1\n",
        "\n",
        "Generate a sequence of N independent random variables with values 0 (with probability 1-p) or 1 (with probability p) and print out this sequence without space between the numbers (i.e., 00101101011011101001, for N=20 and p=0.5).\n"
      ]
    },
    {
      "cell_type": "code",
      "execution_count": 21,
      "metadata": {},
      "outputs": [
        {
          "name": "stdout",
          "output_type": "stream",
          "text": [
            "10000011110101001101\n"
          ]
        }
      ],
      "source": [
        "import numpy as np\n",
        "\n",
        "def generate_binary_sequence(N, p):\n",
        "    random_sequence = np.random.choice([0, 1], size=N, p=[1-p, p])\n",
        "    print(''.join(map(str, random_sequence)))\n",
        "\n",
        "# Set the parameters\n",
        "N = 20\n",
        "p = 0.5\n",
        "\n",
        "# Generate and print the binary sequence\n",
        "generate_binary_sequence(N, p)\n"
      ]
    },
    {
      "cell_type": "markdown",
      "metadata": {},
      "source": [
        "# Ejercicio 2\n",
        "Now, generate random zeros and ones that are dependent.  \n",
        "\n",
        "- If the last generated number was 0, the probability of generating a new 0 is p and a new 1 is 1-p. \n",
        "- Conversely, if the last generated was 1, the probability of generating a new 1 is p and a new 0 is 1-p. \n",
        "\n",
        "Since the new value depends on the last one, we say the variables are dependent. Implement this algorithm in a function returning an array of N zeros and ones. Print out this array in the condense format as described above."
      ]
    },
    {
      "cell_type": "code",
      "execution_count": 18,
      "metadata": {},
      "outputs": [
        {
          "name": "stdout",
          "output_type": "stream",
          "text": [
            "01011100111011010010\n"
          ]
        }
      ],
      "source": [
        "import numpy as np\n",
        "\n",
        "def generate_dependent_binary_sequence(N, p):\n",
        "    # Initialize an array to store the generated sequence\n",
        "    sequence = np.zeros(N, dtype=int)\n",
        "    \n",
        "    sequence[0] = np.random.choice([0, 1], p=[1-p, p])\n",
        "    # Generate the sequence based on the dependency rules\n",
        "    for i in range(1, N):\n",
        "        # If the previous value was 0\n",
        "        if sequence[i-1] == 0:\n",
        "            sequence[i] = np.random.choice([0, 1], p=[p, 1-p])\n",
        "        # If the previous value was 1\n",
        "        elif sequence[i-1] == 1:\n",
        "            sequence[i] = np.random.choice([0, 1], p=[1-p, p])\\\n",
        "            \n",
        "        \n",
        "\n",
        "    # Print the generated sequence without spaces\n",
        "    print(''.join(map(str, sequence)))\n",
        "\n",
        "# Set the parameters\n",
        "N = 20\n",
        "p = 0.35\n",
        "\n",
        "# Generate and print the dependent binary sequence\n",
        "generate_dependent_binary_sequence(N, p)\n"
      ]
    },
    {
      "cell_type": "markdown",
      "metadata": {},
      "source": [
        "# Ejercicio 3\n",
        "Finally, choose N=100 and try the probabilities p={0.0, 0.1, 0.2, 0.3, 0.4, 0.5, 0.6, 0.7, 0.8, 0.9, 1.0}.  \n",
        "\n",
        "Can you by visual inspection of the output characterize the differences between sequences of independent and dependent random variables?\n",
        "\n"
      ]
    },
    {
      "cell_type": "code",
      "execution_count": 29,
      "metadata": {},
      "outputs": [
        {
          "name": "stdout",
          "output_type": "stream",
          "text": [
            "\n",
            "Probability Indepeniente(Arriba) vs Dependiente(Abajo) donde p = 0.0\n",
            "0000000000\n",
            "0101010101\n",
            "\n",
            "Probability Indepeniente(Arriba) vs Dependiente(Abajo) donde p = 0.1\n",
            "0000000000\n",
            "0101110101\n",
            "\n",
            "Probability Indepeniente(Arriba) vs Dependiente(Abajo) donde p = 0.2\n",
            "0010000100\n",
            "0101010100\n",
            "\n",
            "Probability Indepeniente(Arriba) vs Dependiente(Abajo) donde p = 0.3\n",
            "0010000000\n",
            "1010111100\n",
            "\n",
            "Probability Indepeniente(Arriba) vs Dependiente(Abajo) donde p = 0.4\n",
            "0010111001\n",
            "0100100110\n",
            "\n",
            "Probability Indepeniente(Arriba) vs Dependiente(Abajo) donde p = 0.5\n",
            "1101011111\n",
            "0100111001\n",
            "\n",
            "Probability Indepeniente(Arriba) vs Dependiente(Abajo) donde p = 0.6\n",
            "1101111111\n",
            "1010001000\n",
            "\n",
            "Probability Indepeniente(Arriba) vs Dependiente(Abajo) donde p = 0.7\n",
            "0110111011\n",
            "1110000010\n",
            "\n",
            "Probability Indepeniente(Arriba) vs Dependiente(Abajo) donde p = 0.8\n",
            "1100110111\n",
            "1111111000\n",
            "\n",
            "Probability Indepeniente(Arriba) vs Dependiente(Abajo) donde p = 0.9\n",
            "1011111111\n",
            "1111111111\n",
            "\n",
            "Probability Indepeniente(Arriba) vs Dependiente(Abajo) donde p = 1\n",
            "1111111111\n",
            "1111111111\n"
          ]
        }
      ],
      "source": [
        "import numpy as np\n",
        "\n",
        "def generate_dependent_binary_sequence(N, p):\n",
        "    sequence = np.zeros(N, dtype=int)\n",
        "    \n",
        "    sequence[0] = np.random.choice([0, 1], p=[1-p, p])\n",
        "    # Generate the sequence based on the dependency rules\n",
        "    for i in range(1, N):\n",
        "        # If the previous value was 0\n",
        "        if sequence[i-1] == 0:\n",
        "            sequence[i] = np.random.choice([0, 1], p=[p, 1-p])\n",
        "        # If the previous value was 1\n",
        "        elif sequence[i-1] == 1:\n",
        "            sequence[i] = np.random.choice([0, 1], p=[1-p, p])\n",
        "\n",
        "    # Print the generated sequence without spaces\n",
        "    print(''.join(map(str, sequence)))\n",
        "\n",
        "# Set the parameters\n",
        "N = 10\n",
        "probabilities = [0.0, 0.1, 0.2, 0.3, 0.4, 0.5, 0.6, 0.7, 0.8, 0.9, 1]\n",
        "\n",
        "# Generate and print the dependent binary sequence for each probability\n",
        "#for p in probabilities:\n",
        "#    print(f\"\\nProbability Dependencia p = {p}\")\n",
        "#    generate_dependent_binary_sequence(N, p)\n",
        "\n",
        "#for p in probabilities:\n",
        "#    print(f\"\\nProbability No Dependencia p = {p}\")\n",
        "#    generate_binary_sequence(N, p)\n",
        "\n",
        "for p in probabilities:\n",
        "    print(f\"\\nProbability Indepeniente(Arriba) vs Dependiente(Abajo) donde p = {p}\")\n",
        "    generate_binary_sequence(N, p)\n",
        "    generate_dependent_binary_sequence(N, p)\n",
        "\n",
        "    \n",
        "    \n"
      ]
    },
    {
      "cell_type": "markdown",
      "metadata": {},
      "source": [
        "# Ejercicio 4 \n",
        "Use a quantitative measure to check dependence.  In the case of binary random variables cov(X,Y) = P(X=1,Y=1) - P(X=1)P(Y=1) (Check https://csucidatamining.weebly.com/assign-3.html)."
      ]
    },
    {
      "cell_type": "code",
      "execution_count": 33,
      "metadata": {},
      "outputs": [
        {
          "name": "stdout",
          "output_type": "stream",
          "text": [
            "Covarianza Secuencias Dependientes: 0.0221\n",
            "Covarianza Secuencias Independientes: -0.0405\n"
          ]
        }
      ],
      "source": [
        "import numpy as np\n",
        "\n",
        "def generate_dependent_binary_sequence(N, p):\n",
        "    # Initialize an array to store the generated sequence\n",
        "    sequence = np.zeros(N, dtype=int)\n",
        "    \n",
        "    sequence[0] = np.random.choice([0, 1], p=[1-p, p])\n",
        "    # Generate the sequence based on the dependency rules\n",
        "    for i in range(1, N):\n",
        "        # If the previous value was 0\n",
        "        if sequence[i-1] == 0:\n",
        "            sequence[i] = np.random.choice([0, 1], p=[p, 1-p])\n",
        "        # If the previous value was 1\n",
        "        elif sequence[i-1] == 1:\n",
        "            sequence[i] = np.random.choice([0, 1], p=[1-p, p])\n",
        "\n",
        "    return sequence\n",
        "\n",
        "def generate_binary_sequence(N, p):\n",
        "    random_sequence = np.random.choice([0, 1], size=N, p=[1-p, p])\n",
        "    return random_sequence\n",
        "\n",
        "# Set the parameters\n",
        "N = 200\n",
        "p = 0.35\n",
        "\n",
        "# Generate dependent and independent binary sequences\n",
        "sequence_dependent1 = generate_dependent_binary_sequence(N, p)\n",
        "sequence_dependent2 = generate_dependent_binary_sequence(N, p)\n",
        "\n",
        "covariance = np.mean(sequence_dependent1 * sequence_dependent2) - np.mean(sequence_dependent1) * np.mean(sequence_dependent2)\n",
        "print(f\"Covarianza Secuencias Dependientes: {covariance:.4f}\")\n",
        "\n",
        "\n",
        "sequence_independent1 = generate_binary_sequence(N, p)\n",
        "sequence_independent2 = generate_binary_sequence(N, p)\n",
        "\n",
        "covariance1 = np.mean(sequence_independent1 * sequence_independent2) - np.mean(sequence_independent1) * np.mean(sequence_independent2)\n",
        "print(f\"Covarianza Secuencias Independientes: {covariance1:.4f}\")\n",
        "\n"
      ]
    }
  ],
  "metadata": {
    "colab": {
      "provenance": []
    },
    "kernelspec": {
      "display_name": "Python 3",
      "language": "python",
      "name": "python3"
    },
    "language_info": {
      "codemirror_mode": {
        "name": "ipython",
        "version": 3
      },
      "file_extension": ".py",
      "mimetype": "text/x-python",
      "name": "python",
      "nbconvert_exporter": "python",
      "pygments_lexer": "ipython3",
      "version": "3.11.5"
    }
  },
  "nbformat": 4,
  "nbformat_minor": 0
}
