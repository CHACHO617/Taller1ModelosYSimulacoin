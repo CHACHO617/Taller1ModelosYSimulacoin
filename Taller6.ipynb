{
  "cells": [
    {
      "cell_type": "markdown",
      "metadata": {
        "id": "XdLFFfx7Ar2A"
      },
      "source": [
        "# Ejercicio 1\n",
        "\n",
        "Generate a sequence of N independent random variables with values 0 (with probability 1-p) or 1 (with probability p) and print out this sequence without space between the numbers (i.e., 00101101011011101001, for N=20 and p=0.5).\n"
      ]
    },
    {
      "cell_type": "code",
      "execution_count": 2,
      "metadata": {},
      "outputs": [
        {
          "name": "stdout",
          "output_type": "stream",
          "text": [
            "01100001010111100111\n"
          ]
        }
      ],
      "source": [
        "import numpy as np\n",
        "\n",
        "def generate_binary_sequence(N, p):\n",
        "    random_sequence = np.random.choice([0, 1], size=N, p=[1-p, p])\n",
        "    print(''.join(map(str, random_sequence)))\n",
        "\n",
        "# Set the parameters\n",
        "N = 20\n",
        "p = 0.5\n",
        "\n",
        "# Generate and print the binary sequence\n",
        "generate_binary_sequence(N, p)\n"
      ]
    },
    {
      "cell_type": "markdown",
      "metadata": {},
      "source": [
        "# Ejercicio 2\n",
        "Now, generate random zeros and ones that are dependent.  \n",
        "\n",
        "- If the last generated number was 0, the probability of generating a new 0 is p and a new 1 is 1-p. \n",
        "- Conversely, if the last generated was 1, the probability of generating a new 1 is p and a new 0 is 1-p. \n",
        "\n",
        "Since the new value depends on the last one, we say the variables are dependent. Implement this algorithm in a function returning an array of N zeros and ones. Print out this array in the condense format as described above."
      ]
    },
    {
      "cell_type": "code",
      "execution_count": 3,
      "metadata": {},
      "outputs": [
        {
          "name": "stdout",
          "output_type": "stream",
          "text": [
            "01011010100101100101\n"
          ]
        }
      ],
      "source": [
        "import numpy as np\n",
        "\n",
        "def generate_dependent_binary_sequence(N, p):\n",
        "    # Initialize an array to store the generated sequence\n",
        "    sequence = np.zeros(N, dtype=int)\n",
        "    \n",
        "    sequence[0] = np.random.choice([0, 1], p=[1-p, p])\n",
        "    # Generate the sequence based on the dependency rules\n",
        "    for i in range(1, N):\n",
        "        # If the previous value was 0\n",
        "        if sequence[i-1] == 0:\n",
        "            sequence[i] = np.random.choice([0, 1], p=[p, 1-p])\n",
        "        # If the previous value was 1\n",
        "        elif sequence[i-1] == 1:\n",
        "            sequence[i] = np.random.choice([0, 1], p=[1-p, p])\\\n",
        "            \n",
        "        \n",
        "\n",
        "    # Print the generated sequence without spaces\n",
        "    print(''.join(map(str, sequence)))\n",
        "\n",
        "# Set the parameters\n",
        "N = 20\n",
        "p = 0.35\n",
        "\n",
        "# Generate and print the dependent binary sequence\n",
        "generate_dependent_binary_sequence(N, p)\n"
      ]
    },
    {
      "cell_type": "markdown",
      "metadata": {},
      "source": [
        "# Ejercicio 3\n",
        "Finally, choose N=100 and try the probabilities p={0.0, 0.1, 0.2, 0.3, 0.4, 0.5, 0.6, 0.7, 0.8, 0.9, 1.0}.  \n",
        "\n",
        "Can you by visual inspection of the output characterize the differences between sequences of independent and dependent random variables?\n",
        "\n"
      ]
    },
    {
      "cell_type": "code",
      "execution_count": 4,
      "metadata": {},
      "outputs": [
        {
          "name": "stdout",
          "output_type": "stream",
          "text": [
            "\n",
            "Probability Indepeniente(Arriba) vs Dependiente(Abajo) donde p = 0.0\n",
            "0000000000000000000000000000000000000000000000000000000000000000000000000000000000000000000000000000\n",
            "0101010101010101010101010101010101010101010101010101010101010101010101010101010101010101010101010101\n",
            "\n",
            "Probability Indepeniente(Arriba) vs Dependiente(Abajo) donde p = 0.1\n",
            "0000000000000000000010000000000000000000000000011000010000000000000000100010000000000000000000100000\n",
            "0101010110101010101010101010101001010101101010101010110101010100101001010001010010101010100101010101\n",
            "\n",
            "Probability Indepeniente(Arriba) vs Dependiente(Abajo) donde p = 0.2\n",
            "1001000000100000000001000010000000100000000000000000110001000000000101001100010000000100001001110000\n",
            "0110010010001101010101010101001110110101010010101010100101101001000101010100100110101110101010100010\n",
            "\n",
            "Probability Indepeniente(Arriba) vs Dependiente(Abajo) donde p = 0.3\n",
            "0001000010010000100010000100010011010001100000010011101011000000000100000001011001001000000011100000\n",
            "0101101101011010100101010010011010010101010100010110010010000111010101010010100101000101000000100101\n",
            "\n",
            "Probability Indepeniente(Arriba) vs Dependiente(Abajo) donde p = 0.4\n",
            "1101000100001011100010000101111101100111101000000010111110011011011010100010100010001010110110011001\n",
            "1001010010110110011000011111000100100001001000001110111001000000001100110111011010100011010100001100\n",
            "\n",
            "Probability Indepeniente(Arriba) vs Dependiente(Abajo) donde p = 0.5\n",
            "0111000000010011110010100010000111111010000111110111011111111100101100011001101101000011110011001000\n",
            "1011101110000101010001111010111001101111000000001110101100101000100001011010001111011001110100010110\n",
            "\n",
            "Probability Indepeniente(Arriba) vs Dependiente(Abajo) donde p = 0.6\n",
            "0011101110011010110110010111001001011110110000011101101101111011111110001011100101010110001001101111\n",
            "0000000011110000100111001010001100000111100101110101110100010011010000111110010110100010110100011011\n",
            "\n",
            "Probability Indepeniente(Arriba) vs Dependiente(Abajo) donde p = 0.7\n",
            "1111010010111111111110111111110111110111111110111011110111110111100111101111010111111101101011111100\n",
            "1111000000111000011011111111111011100011111101110001111111111101111110011111001011000001111111111111\n",
            "\n",
            "Probability Indepeniente(Arriba) vs Dependiente(Abajo) donde p = 0.8\n",
            "1111111111011110101111011011110111111110100111110110110111111110011101011011011110111011110100001110\n",
            "1111000000000011111000011111111110000000000000000111110110000001111111000100000111000010110000000111\n",
            "\n",
            "Probability Indepeniente(Arriba) vs Dependiente(Abajo) donde p = 0.9\n",
            "1111111011111111011111111111111111110001011111111111111011111111110111111110110111110111111111111011\n",
            "1110000000000000111100000000000001111111111111111111111111111100000000000000000000000000000000111111\n",
            "\n",
            "Probability Indepeniente(Arriba) vs Dependiente(Abajo) donde p = 1\n",
            "1111111111111111111111111111111111111111111111111111111111111111111111111111111111111111111111111111\n",
            "1111111111111111111111111111111111111111111111111111111111111111111111111111111111111111111111111111\n"
          ]
        }
      ],
      "source": [
        "import numpy as np\n",
        "\n",
        "def generate_dependent_binary_sequence(N, p):\n",
        "    sequence = np.zeros(N, dtype=int)\n",
        "    \n",
        "    sequence[0] = np.random.choice([0, 1], p=[1-p, p])\n",
        "    # Generate the sequence based on the dependency rules\n",
        "    for i in range(1, N):\n",
        "        # If the previous value was 0\n",
        "        if sequence[i-1] == 0:\n",
        "            sequence[i] = np.random.choice([0, 1], p=[p, 1-p])\n",
        "        # If the previous value was 1\n",
        "        elif sequence[i-1] == 1:\n",
        "            sequence[i] = np.random.choice([0, 1], p=[1-p, p])\n",
        "\n",
        "    # Print the generated sequence without spaces\n",
        "    print(''.join(map(str, sequence)))\n",
        "\n",
        "# Set the parameters\n",
        "N = 100\n",
        "probabilities = [0.0, 0.1, 0.2, 0.3, 0.4, 0.5, 0.6, 0.7, 0.8, 0.9, 1]\n",
        "\n",
        "# Generate and print the dependent binary sequence for each probability\n",
        "#for p in probabilities:\n",
        "#    print(f\"\\nProbability Dependencia p = {p}\")\n",
        "#    generate_dependent_binary_sequence(N, p)\n",
        "\n",
        "#for p in probabilities:\n",
        "#    print(f\"\\nProbability No Dependencia p = {p}\")\n",
        "#    generate_binary_sequence(N, p)\n",
        "\n",
        "for p in probabilities:\n",
        "    print(f\"\\nProbability Indepeniente(Arriba) vs Dependiente(Abajo) donde p = {p}\")\n",
        "    generate_binary_sequence(N, p)\n",
        "    generate_dependent_binary_sequence(N, p)\n",
        "\n",
        "    \n",
        "    \n"
      ]
    },
    {
      "cell_type": "markdown",
      "metadata": {},
      "source": [
        "Visualmente unicamente se pueden definor 3 patrones. \n",
        "1. Cuando P = 0.0 la secuencia independiente siempre son ceros, y la dependiente es 010101.... repetitivo. \n",
        "2. Cuando P = 1 ambas secuencias, tanto la independiente como la dependiente son todos unos\n",
        "3. Mientras mas va aumentando el valor de p, la secuencia independiente va teniendo en un inicio mas ceros y en un final mas unos y por el contrario  mientras que en la frecuencia dependiente la se observa como los ceros y los 1 se agrupan conforme va aumentando el tamaño de p. \n",
        "\n",
        "Estos no son patrones claros pero si se los puede evidenciar a grandes razgos."
      ]
    },
    {
      "cell_type": "markdown",
      "metadata": {},
      "source": [
        "# Ejercicio 4 \n",
        "Use a quantitative measure to check dependence.  In the case of binary random variables cov(X,Y) = P(X=1,Y=1) - P(X=1)P(Y=1) (Check https://csucidatamining.weebly.com/assign-3.html)."
      ]
    },
    {
      "cell_type": "code",
      "execution_count": 5,
      "metadata": {},
      "outputs": [
        {
          "name": "stdout",
          "output_type": "stream",
          "text": [
            "Covarianza Secuencias Dependientes: 0.0168\n",
            "Covarianza Secuencias Independientes: -0.0022\n"
          ]
        }
      ],
      "source": [
        "import numpy as np\n",
        "\n",
        "def generate_dependent_binary_sequence(N, p):\n",
        "    # Initialize an array to store the generated sequence\n",
        "    sequence = np.zeros(N, dtype=int)\n",
        "    \n",
        "    sequence[0] = np.random.choice([0, 1], p=[1-p, p])\n",
        "    # Generate the sequence based on the dependency rules\n",
        "    for i in range(1, N):\n",
        "        # If the previous value was 0\n",
        "        if sequence[i-1] == 0:\n",
        "            sequence[i] = np.random.choice([0, 1], p=[p, 1-p])\n",
        "        # If the previous value was 1\n",
        "        elif sequence[i-1] == 1:\n",
        "            sequence[i] = np.random.choice([0, 1], p=[1-p, p])\n",
        "\n",
        "    return sequence\n",
        "\n",
        "def generate_binary_sequence(N, p):\n",
        "    random_sequence = np.random.choice([0, 1], size=N, p=[1-p, p])\n",
        "    return random_sequence\n",
        "\n",
        "# Set the parameters\n",
        "N = 200\n",
        "p = 0.35\n",
        "\n",
        "# Generate dependent and independent binary sequences\n",
        "sequence_dependent1 = generate_dependent_binary_sequence(N, p)\n",
        "sequence_dependent2 = generate_dependent_binary_sequence(N, p)\n",
        "\n",
        "covariance = np.mean(sequence_dependent1 * sequence_dependent2) - np.mean(sequence_dependent1) * np.mean(sequence_dependent2)\n",
        "print(f\"Covarianza Secuencias Dependientes: {covariance:.4f}\")\n",
        "\n",
        "\n",
        "sequence_independent1 = generate_binary_sequence(N, p)\n",
        "sequence_independent2 = generate_binary_sequence(N, p)\n",
        "\n",
        "covariance1 = np.mean(sequence_independent1 * sequence_independent2) - np.mean(sequence_independent1) * np.mean(sequence_independent2)\n",
        "print(f\"Covarianza Secuencias Independientes: {covariance1:.4f}\")\n",
        "\n"
      ]
    }
  ],
  "metadata": {
    "colab": {
      "provenance": []
    },
    "kernelspec": {
      "display_name": "Python 3",
      "language": "python",
      "name": "python3"
    },
    "language_info": {
      "codemirror_mode": {
        "name": "ipython",
        "version": 3
      },
      "file_extension": ".py",
      "mimetype": "text/x-python",
      "name": "python",
      "nbconvert_exporter": "python",
      "pygments_lexer": "ipython3",
      "version": "3.11.5"
    }
  },
  "nbformat": 4,
  "nbformat_minor": 0
}
