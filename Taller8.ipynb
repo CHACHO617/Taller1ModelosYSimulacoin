{
 "cells": [
  {
   "cell_type": "markdown",
   "metadata": {},
   "source": [
    "# Ejercicio 1\n",
    "Una cadena de tiendas compra cierto tipo de dispositivo electrónico a un fabricante, el cual le indica que la tasa de dispositivos defectuosos es de 3%"
   ]
  },
  {
   "cell_type": "markdown",
   "metadata": {},
   "source": [
    "## a:\n",
    "El inspector de la cadena elige 20 artículos al azar de un cargamento, cuál es la probabilidad de qué haya al menos un artículo defectuoso entre estos 20?"
   ]
  },
  {
   "cell_type": "code",
   "execution_count": 1,
   "metadata": {},
   "outputs": [
    {
     "name": "stdout",
     "output_type": "stream",
     "text": [
      "Probabilidad de al menos un artículo defectuoso entre 20 artículos: 0.4569\n"
     ]
    }
   ],
   "source": [
    "\n",
    "import random\n",
    "\n",
    "def simulacion_dispositivos_defectuosos(num_simulaciones, num_articulos, tasa_defectuosos):\n",
    "    # Inicializar contador de simulaciones con al menos un artículo defectuoso\n",
    "    simulaciones_con_defectuosos = 0\n",
    "\n",
    "    for _ in range(num_simulaciones):\n",
    "        # Simular la compra de artículos\n",
    "        articulos = [random.random() < tasa_defectuosos for _ in range(num_articulos)]\n",
    "\n",
    "        # Verificar si hay al menos un artículo defectuoso\n",
    "        if any(articulos):\n",
    "            simulaciones_con_defectuosos += 1\n",
    "\n",
    "    # Calcular la probabilidad\n",
    "    probabilidad = simulaciones_con_defectuosos / num_simulaciones\n",
    "    return probabilidad\n",
    "\n",
    "# Configuración de la simulación\n",
    "num_simulaciones = 1000000  # Número de simulaciones\n",
    "num_articulos = 20         # Número de artículos en cada simulación\n",
    "tasa_defectuosos = 0.03    # Tasa de dispositivos defectuosos (3%)\n",
    "\n",
    "# Ejecutar la simulación\n",
    "probabilidad = simulacion_dispositivos_defectuosos(num_simulaciones, num_articulos, tasa_defectuosos)\n",
    "\n",
    "# Imprimir resultados\n",
    "print(f\"Probabilidad de al menos un artículo defectuoso entre {num_articulos} artículos: {probabilidad:.4f}\")"
   ]
  },
  {
   "cell_type": "code",
   "execution_count": 268,
   "metadata": {},
   "outputs": [
    {
     "name": "stdout",
     "output_type": "stream",
     "text": [
      "0.4529\n"
     ]
    }
   ],
   "source": [
    "import numpy as np\n",
    "p = 0.03 \n",
    "n = 10000\n",
    "\n",
    "success = 0 \n",
    "\n",
    "for i in range(n):\n",
    "    items = np.random.rand(20) < p\n",
    "    if np.sum(items*1) > 0:\n",
    "        success +=1\n",
    "\n",
    "p = success/n \n",
    "\n",
    "print(p)\n"
   ]
  },
  {
   "cell_type": "markdown",
   "metadata": {},
   "source": [
    "## b: \n",
    "Suponga que el detallista recibe 10 cargamentos en un mes y que el inspector prueba aleatoriamente 20 dispositivos por cargamento, cuál es la probabilidad de que haya exactamente tres cargamentos que contengan al menos un dispositivo defectuoso de entre los 20 seleccionados y probados?\n"
   ]
  },
  {
   "cell_type": "code",
   "execution_count": 269,
   "metadata": {},
   "outputs": [
    {
     "name": "stdout",
     "output_type": "stream",
     "text": [
      "0.16013\n"
     ]
    }
   ],
   "source": [
    "import numpy as np\n",
    "\n",
    "p = 0.4562\n",
    "n = 100000\n",
    "\n",
    "success = 0\n",
    "for i in range(n):\n",
    "   items = np.random.rand(10) < p\n",
    "   if np.sum(items*1) == 3:\n",
    "       success += 1\n",
    "print(success/n)\n"
   ]
  },
  {
   "cell_type": "markdown",
   "metadata": {},
   "source": [
    "# 2"
   ]
  },
  {
   "cell_type": "code",
   "execution_count": 2,
   "metadata": {},
   "outputs": [
    {
     "name": "stdout",
     "output_type": "stream",
     "text": [
      "Probabilidad estimada: 0.3012\n"
     ]
    }
   ],
   "source": [
    "import random\n",
    "\n",
    "def experimento():\n",
    "    # Simula un lote con 40 componentes, 3 de los cuales son defectuosos\n",
    "    lote = [0] * 37 + [1] * 3  # 0 representa un componente no defectuoso, 1 representa un componente defectuoso\n",
    "    # Selecciona una muestra de 5 componentes al azar\n",
    "    muestra = random.sample(lote, 5)\n",
    "    # Cuenta la cantidad de componentes defectuosos en la muestra\n",
    "    defectuosos_en_muestra = sum(muestra)\n",
    "    # Devuelve 1 si hay exactamente un componente defectuoso en la muestra, 0 de lo contrario\n",
    "    return 1 if defectuosos_en_muestra == 1 else 0\n",
    "\n",
    "# Número de experimentos simulados\n",
    "num_experimentos = 100000\n",
    "# Realiza los experimentos simulados y cuenta cuántos cumplen la condición deseada\n",
    "num_exitosos = sum(experimento() for _ in range(num_experimentos))\n",
    "# Calcula la probabilidad estimada\n",
    "probabilidad = num_exitosos / num_experimentos\n",
    "\n",
    "print(\"Probabilidad estimada:\", probabilidad)\n"
   ]
  },
  {
   "cell_type": "markdown",
   "metadata": {},
   "source": [
    "# 3"
   ]
  },
  {
   "cell_type": "code",
   "execution_count": 7,
   "metadata": {},
   "outputs": [
    {
     "name": "stdout",
     "output_type": "stream",
     "text": [
      "Probabilidad de 0 inundaciones: 0.36788\n",
      "Probabilidad de 1 inundaciones: 0.36788\n",
      "Probabilidad de 2 inundaciones: 0.18394\n",
      "Probabilidad de 3 inundaciones: 0.06131\n",
      "Probabilidad de 4 inundaciones: 0.01533\n",
      "Probabilidad de 5 inundaciones: 0.00307\n",
      "Probabilidad de 6 inundaciones: 0.00051\n"
     ]
    }
   ],
   "source": [
    "import math\n",
    "\n",
    "def poisson_prob(lmbda, k):\n",
    "    return (math.exp(-lmbda) * lmbda**k) / math.factorial(k)\n",
    "\n",
    "def simulacion_poisson(lmbda, num_simulaciones):\n",
    "    probabilidades = [poisson_prob(lmbda, k) for k in range(num_simulaciones)]\n",
    "    return probabilidades\n",
    "\n",
    "# Promedio de inundaciones por desbordamiento por 100 años\n",
    "lmbda = 1 # Una inundación cada 100 años en promedio\n",
    "\n",
    "# Número de eventos que queremos calcular la probabilidad\n",
    "num_simulaciones = 7\n",
    "\n",
    "# Realiza la simulación\n",
    "resultados = simulacion_poisson(lmbda, num_simulaciones)\n",
    "\n",
    "# Imprime las probabilidades para k = 0, 1, 2, 3, 4, 5, 6\n",
    "for k, probabilidad in enumerate(resultados):\n",
    "    print(f\"Probabilidad de {k} inundaciones: {probabilidad:.5f}\")\n"
   ]
  },
  {
   "cell_type": "code",
   "execution_count": 272,
   "metadata": {},
   "outputs": [
    {
     "name": "stdout",
     "output_type": "stream",
     "text": [
      "Probabilidad de 0 inundaciones: 0.3706\n",
      "Probabilidad de 1 inundaciones: 0.3659\n",
      "Probabilidad de 2 inundaciones: 0.1832\n",
      "Probabilidad de 3 inundaciones: 0.0621\n",
      "Probabilidad de 4 inundaciones: 0.0142\n",
      "Probabilidad de 5 inundaciones: 0.0034\n",
      "Probabilidad de 6 inundaciones: 0.0005\n"
     ]
    }
   ],
   "source": [
    "import numpy as np\n",
    "\n",
    "# Configuración de la simulación\n",
    "promedio_inundaciones = 1 / 100  # Promedio de inundaciones por año\n",
    "repeticiones = 100000  # Número de simulaciones\n",
    "\n",
    "# Inicializar una lista para almacenar la cantidad de inundaciones en cada simulación\n",
    "resultados = []\n",
    "\n",
    "# Realizar la simulación\n",
    "for _ in range(repeticiones):\n",
    "    # Simular 100 años y contar la cantidad de inundaciones\n",
    "    inundaciones_simuladas = np.random.poisson(lam=promedio_inundaciones * 100)\n",
    "    resultados.append(inundaciones_simuladas)\n",
    "\n",
    "# Calcular la probabilidad de k inundaciones para k=0, 1, 2, ..., 6\n",
    "probabilidades = []\n",
    "for k in range(7):\n",
    "    prob_k = sum(1 for result in resultados if result == k) / repeticiones\n",
    "    probabilidades.append(prob_k)\n",
    "\n",
    "# Imprimir resultados\n",
    "for k, prob_k in enumerate(probabilidades):\n",
    "    print(f\"Probabilidad de {k} inundaciones: {prob_k:.4f}\")\n"
   ]
  },
  {
   "cell_type": "markdown",
   "metadata": {},
   "source": [
    "# 4"
   ]
  },
  {
   "cell_type": "code",
   "execution_count": 8,
   "metadata": {},
   "outputs": [
    {
     "name": "stdout",
     "output_type": "stream",
     "text": [
      "Probabilidad de necesitar 5 intentos para un enlace exitoso: 0.0406\n"
     ]
    }
   ],
   "source": [
    "import random\n",
    "\n",
    "def simulacion_enlace_exitoso(probabilidad_exito, intentos):\n",
    "    for _ in range(intentos - 1):\n",
    "        if random.random() <= probabilidad_exito:\n",
    "            # Éxito\n",
    "            return 0\n",
    "    # Último intento\n",
    "    return 1 if random.random() <= probabilidad_exito else 0\n",
    "\n",
    "def simulacion_varios_intentos(probabilidad_exito, intentos_simulacion, intentos_para_exito):\n",
    "    exitos = sum(simulacion_enlace_exitoso(probabilidad_exito, intentos_para_exito) for _ in range(intentos_simulacion))\n",
    "    probabilidad = exitos / intentos_simulacion\n",
    "    return probabilidad\n",
    "\n",
    "# Parámetros\n",
    "probabilidad_exito = 0.05\n",
    "intentos_simulacion = 100000  # Número de simulaciones\n",
    "intentos_para_exito = 5\n",
    "\n",
    "# Realizar la simulación\n",
    "probabilidad = simulacion_varios_intentos(probabilidad_exito, intentos_simulacion, intentos_para_exito)\n",
    "\n",
    "# Imprimir resultado\n",
    "print(f\"Probabilidad de necesitar {intentos_para_exito} intentos para un enlace exitoso: {probabilidad:.4f}\")\n"
   ]
  },
  {
   "cell_type": "markdown",
   "metadata": {},
   "source": [
    "# 5"
   ]
  },
  {
   "cell_type": "code",
   "execution_count": 27,
   "metadata": {},
   "outputs": [
    {
     "name": "stdout",
     "output_type": "stream",
     "text": [
      "(a) Probabilidad de que el primer pozo sea en la tercera perforación: 0.1280\n",
      "(b) Probabilidad de que el tercer pozo sea en la séptima perforación: 0.0524\n",
      "(c) Media del número de pozos necesarios: 5.00\n",
      "    Varianza del número de pozos necesarios: 20.00\n"
     ]
    }
   ],
   "source": [
    "p = 0.2  # Probabilidad de éxito\n",
    "k_a = 3  # Número de intentos para el primer éxito en el punto (a)\n",
    "k_b = 7  # Número de intentos para el tercer éxito en el punto (b)\n",
    "\n",
    "# (a) Probabilidad de que el primer pozo se produzca en la tercera perforación\n",
    "prob_a = (1 - p)**(k_a - 1) * p\n",
    "\n",
    "# (b) Probabilidad de que el tercer pozo se produzca en la séptima perforación\n",
    "prob_b = (1 - p)**(k_b - 1) * p\n",
    "\n",
    "# (c) Media y varianza\n",
    "media = 1 / p\n",
    "varianza = (1 - p) / p**2\n",
    "\n",
    "# Imprimir resultados\n",
    "print(f\"(a) Probabilidad de que el primer pozo sea en la tercera perforación: {prob_a:.4f}\")\n",
    "print(f\"(b) Probabilidad de que el tercer pozo sea en la séptima perforación: {prob_b:.4f}\")\n",
    "print(f\"(c) Media del número de pozos necesarios: {media:.2f}\")\n",
    "print(f\"    Varianza del número de pozos necesarios: {varianza:.2f}\")\n"
   ]
  },
  {
   "cell_type": "code",
   "execution_count": 46,
   "metadata": {},
   "outputs": [
    {
     "name": "stdout",
     "output_type": "stream",
     "text": [
      "Probabilidad de localizar petróleo por primera vez en el tercer pozo: 0.1288\n",
      "Media del número de pozos necesarios: 5.00\n"
     ]
    }
   ],
   "source": [
    "import random\n",
    "\n",
    "def simulacion_geometrica(p, objetivo, num_simulaciones):\n",
    "    exitos = 0\n",
    "    intentos_totales = 0\n",
    "\n",
    "    for _ in range(num_simulaciones):\n",
    "        intentos = 1\n",
    "        while random.random() > p:\n",
    "            intentos += 1\n",
    "        intentos_totales += intentos\n",
    "        if intentos == objetivo:\n",
    "            exitos += 1\n",
    "\n",
    "    probabilidad = exitos / num_simulaciones\n",
    "    media = intentos_totales / num_simulaciones\n",
    "\n",
    "    return probabilidad, media\n",
    "\n",
    "# Parámetros\n",
    "p = 0.2  # Probabilidad de éxito\n",
    "objetivo = 3  # Número de pozos para el primer éxito\n",
    "num_simulaciones = 100000  # Número de simulaciones\n",
    "\n",
    "# Realizar la simulación\n",
    "probabilidad, media = simulacion_geometrica(p, objetivo, num_simulaciones)\n",
    "\n",
    "# Imprimir resultados\n",
    "print(f\"Probabilidad de localizar petróleo por primera vez en el tercer pozo: {probabilidad:.4f}\")\n",
    "\n"
   ]
  },
  {
   "cell_type": "code",
   "execution_count": 133,
   "metadata": {},
   "outputs": [
    {
     "name": "stdout",
     "output_type": "stream",
     "text": [
      "Probability of third success on seventh trial:  0.049208\n"
     ]
    }
   ],
   "source": [
    "import random\n",
    "\n",
    "num_simulations = 1000000\n",
    "success_probability = 0.20\n",
    "third_success_seventh_trial = 0\n",
    "\n",
    "for _ in range(num_simulations):\n",
    "    successes = 0\n",
    "    trials = 0\n",
    "    while successes < 3 and trials < 7:\n",
    "        if random.random() < success_probability:\n",
    "            successes += 1\n",
    "        trials += 1\n",
    "    if successes == 3 and trials == 7:\n",
    "        third_success_seventh_trial += 1\n",
    "\n",
    "print(\"Probability of third success on seventh trial: \", third_success_seventh_trial / num_simulations)"
   ]
  },
  {
   "cell_type": "code",
   "execution_count": 266,
   "metadata": {},
   "outputs": [
    {
     "name": "stdout",
     "output_type": "stream",
     "text": [
      "Media: 15.1474\n",
      "Varianza: 61.8803\n"
     ]
    }
   ],
   "source": [
    "import numpy as np\n",
    "\n",
    "# Configuración de la simulación\n",
    "probabilidad_encontrar_petroleo = 0.2\n",
    "repeticiones = 10000\n",
    "pozos_objetivo = 3\n",
    "\n",
    "# Inicializar variables para la sumatoria\n",
    "sumatoria_len = 0\n",
    "sumatoria_len_cuadrado = 0\n",
    "\n",
    "for _ in range(repeticiones):\n",
    "    cant_pozos = 0\n",
    "    pozos_perforados = 0\n",
    "\n",
    "    while cant_pozos < pozos_objetivo:\n",
    "        nuevo_pozo = np.random.choice([0, 1], p=[1 - probabilidad_encontrar_petroleo, probabilidad_encontrar_petroleo])\n",
    "        pozos_perforados += 1\n",
    "        cant_pozos += nuevo_pozo\n",
    "\n",
    "    # Guardar la cantidad de pozos necesarios en cada repetición\n",
    "    sumatoria_len += pozos_perforados\n",
    "    sumatoria_len_cuadrado += pozos_perforados ** 2\n",
    "\n",
    "# Calcular la media y la varianza\n",
    "media = sumatoria_len / repeticiones\n",
    "varianza = (sumatoria_len_cuadrado / repeticiones) - (media ** 2)\n",
    "\n",
    "# Imprimir resultados\n",
    "print(f\"Media: {media:.4f}\")\n",
    "print(f\"Varianza: {varianza:.4f}\")\n"
   ]
  }
 ],
 "metadata": {
  "kernelspec": {
   "display_name": "Python 3",
   "language": "python",
   "name": "python3"
  },
  "language_info": {
   "codemirror_mode": {
    "name": "ipython",
    "version": 3
   },
   "file_extension": ".py",
   "mimetype": "text/x-python",
   "name": "python",
   "nbconvert_exporter": "python",
   "pygments_lexer": "ipython3",
   "version": "3.11.7"
  }
 },
 "nbformat": 4,
 "nbformat_minor": 2
}
