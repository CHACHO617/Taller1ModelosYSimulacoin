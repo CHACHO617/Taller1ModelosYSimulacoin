{
  "cells": [
    {
      "cell_type": "markdown",
      "metadata": {},
      "source": [
        "# Ejercicio 1\n",
        "Verify that the probability that a 2-by-2 system percolates is 𝑝^2*(2−𝑝^2), where 𝑝 is the probability that a site is open.  Compute the percolation probability for 𝑝 ∈ {0.1, 0.2, 0.3, 0.4, 0.5, 0.6, 0.7, 0.8, 0.9} through simulation and compare it with its theoretical value (see: https://introcs.cs.princeton.edu/java/24percolation/)."
      ]
    },
    {
      "cell_type": "code",
      "execution_count": 18,
      "metadata": {},
      "outputs": [
        {
          "name": "stdout",
          "output_type": "stream",
          "text": [
            "Para p=0.1:\n",
            "Probabilidad Teorica: 0.0199\n",
            "Probabilidad Simulada: 0.0191\n",
            "\n",
            "Para p=0.2:\n",
            "Probabilidad Teorica: 0.0784\n",
            "Probabilidad Simulada: 0.0786\n",
            "\n",
            "Para p=0.3:\n",
            "Probabilidad Teorica: 0.1719\n",
            "Probabilidad Simulada: 0.1722\n",
            "\n",
            "Para p=0.4:\n",
            "Probabilidad Teorica: 0.2944\n",
            "Probabilidad Simulada: 0.2972\n",
            "\n",
            "Para p=0.5:\n",
            "Probabilidad Teorica: 0.4375\n",
            "Probabilidad Simulada: 0.4374\n",
            "\n",
            "Para p=0.6:\n",
            "Probabilidad Teorica: 0.5904\n",
            "Probabilidad Simulada: 0.5886\n",
            "\n",
            "Para p=0.7:\n",
            "Probabilidad Teorica: 0.7399\n",
            "Probabilidad Simulada: 0.7404\n",
            "\n",
            "Para p=0.8:\n",
            "Probabilidad Teorica: 0.8704\n",
            "Probabilidad Simulada: 0.8703\n",
            "\n",
            "Para p=0.9:\n",
            "Probabilidad Teorica: 0.9639\n",
            "Probabilidad Simulada: 0.9631\n",
            "\n",
            "Para p=1.0:\n",
            "Probabilidad Teorica: 1.0000\n",
            "Probabilidad Simulada: 1.0000\n",
            "\n"
          ]
        }
      ],
      "source": [
        "import numpy as np\n",
        "\n",
        "def percolation_probability_theoretical(p):\n",
        "    return p**2 * (2 - p**2)\n",
        "def simulate_column_percolation(p, num_trials=100000):\n",
        "\n",
        "    percolates = 0\n",
        "    for _ in range(num_trials):\n",
        "        # Generate a 2x2 system and check if it percolates through columns\n",
        "        system = np.random.rand(2, 2) < p\n",
        "        if np.any(np.all(system, axis=0)):  # Check if any column is open\n",
        "            percolates += 1\n",
        "    return percolates / num_trials\n",
        "\n",
        "# Values of p to test\n",
        "p_values = [0.1, 0.2, 0.3, 0.4, 0.5, 0.6, 0.7, 0.8, 0.9, 1.0]\n",
        "\n",
        "# Compare theoretical and simulated percolation probabilities for columns\n",
        "for p in p_values:\n",
        "    theoretical_prob = percolation_probability_theoretical(p)\n",
        "    simulated_prob = simulate_column_percolation(p)\n",
        "    \n",
        "    print(f'Para p={p}:')\n",
        "    print(f'Probabilidad Teorica: {theoretical_prob:.4f}')\n",
        "    print(f'Probabilidad Simulada: {simulated_prob:.4f}\\n')\n",
        "\n"
      ]
    },
    {
      "cell_type": "markdown",
      "metadata": {},
      "source": [
        "# Ejercicio 2 \n",
        "Generate random binary vectors of 100 values where the P(X=1)=p. Calculate the mean Hamming distance between any two random vectors. Try p ∈ {0.0, 0.1, 0.2, 0.3, 0.4, 0.5, 0.6, 0.7, 0.8, 0.9, 1.0} (see: https://en.wikipedia.org/wiki/Hamming_distance). What is the theoretical value for the mean distance according to p?"
      ]
    },
    {
      "cell_type": "code",
      "execution_count": 16,
      "metadata": {},
      "outputs": [
        {
          "name": "stdout",
          "output_type": "stream",
          "text": [
            "\n",
            "Para p=0.0: Media Hamming Distance = 0.0000\n",
            "Para p=0.0: Media Hamming Distance = 0.0000\n",
            "\n",
            "Para p=0.1: Media Hamming Distance = 18.0000\n",
            "Para p=0.1: Media Hamming Distance = 17.9840\n",
            "\n",
            "Para p=0.2: Media Hamming Distance = 32.0000\n",
            "Para p=0.2: Media Hamming Distance = 32.3626\n",
            "\n",
            "Para p=0.3: Media Hamming Distance = 42.0000\n",
            "Para p=0.3: Media Hamming Distance = 42.3495\n",
            "\n",
            "Para p=0.4: Media Hamming Distance = 48.0000\n",
            "Para p=0.4: Media Hamming Distance = 48.0667\n",
            "\n",
            "Para p=0.5: Media Hamming Distance = 50.0000\n",
            "Para p=0.5: Media Hamming Distance = 50.1315\n",
            "\n",
            "Para p=0.6: Media Hamming Distance = 48.0000\n",
            "Para p=0.6: Media Hamming Distance = 48.0059\n",
            "\n",
            "Para p=0.7: Media Hamming Distance = 42.0000\n",
            "Para p=0.7: Media Hamming Distance = 41.5832\n",
            "\n",
            "Para p=0.8: Media Hamming Distance = 32.0000\n",
            "Para p=0.8: Media Hamming Distance = 32.1810\n",
            "\n",
            "Para p=0.9: Media Hamming Distance = 18.0000\n",
            "Para p=0.9: Media Hamming Distance = 17.9366\n",
            "\n",
            "Para p=1.0: Media Hamming Distance = 0.0000\n",
            "Para p=1.0: Media Hamming Distance = 0.0000\n"
          ]
        }
      ],
      "source": [
        "import numpy as np\n",
        "from itertools import combinations\n",
        "\n",
        "def generate_binary_vector(size, p):\n",
        "    return np.random.choice([0, 1], size=size, p=[1-p, p])\n",
        "\n",
        "def hamming_distance(vector1, vector2):\n",
        "    return np.sum(vector1 != vector2)\n",
        "\n",
        "def mean_hamming_distance(p, num_vectors=100):\n",
        "    size = 100\n",
        "    vectors = [generate_binary_vector(size, p) for _ in range(num_vectors)]\n",
        "    #print (vectors)\n",
        "\n",
        "    total_distance = 0\n",
        "    count = 0\n",
        "\n",
        "    for pair in combinations(vectors, 2):\n",
        "        total_distance += hamming_distance(pair[0], pair[1])\n",
        "        count += 1\n",
        "\n",
        "    return total_distance / count\n",
        "\n",
        "\n",
        "\n",
        "def theoretical_mean_distance(p):\n",
        "    return 2*p * (1-p) * 100\n",
        "\n",
        "# Values of p to test\n",
        "p_values = [0.0, 0.1, 0.2, 0.3, 0.4, 0.5, 0.6, 0.7, 0.8, 0.9, 1.0]\n",
        "\n",
        "# Calculate and print mean Hamming distance for each p\n",
        "for p in p_values:\n",
        "    mean_distance = mean_hamming_distance(p)\n",
        "    mean_theoretical_distance = theoretical_mean_distance(p)\n",
        "    print(f\"\\nPara p={p}: Media Hamming Distance = {mean_theoretical_distance:.4f}\")\n",
        "    print(f\"Para p={p}: Media Hamming Distance = {mean_distance:.4f}\")\n"
      ]
    },
    {
      "cell_type": "markdown",
      "metadata": {},
      "source": [
        "Por lo tanto la expresion para poder convertir p en distandicia de Hamming es: DistanciaTeorica = 2p(1-p)*100 tomando en cuenta que 100 es el tamaño del vector."
      ]
    }
  ],
  "metadata": {
    "colab": {
      "provenance": []
    },
    "kernelspec": {
      "display_name": "Python 3",
      "language": "python",
      "name": "python3"
    },
    "language_info": {
      "codemirror_mode": {
        "name": "ipython",
        "version": 3
      },
      "file_extension": ".py",
      "mimetype": "text/x-python",
      "name": "python",
      "nbconvert_exporter": "python",
      "pygments_lexer": "ipython3",
      "version": "3.11.5"
    }
  },
  "nbformat": 4,
  "nbformat_minor": 0
}
