{
  "cells": [
    {
      "cell_type": "code",
      "execution_count": 8,
      "metadata": {},
      "outputs": [
        {
          "name": "stdout",
          "output_type": "stream",
          "text": [
            "For p=0.1:\n",
            "Theoretical Probability: 0.0199\n",
            "Simulated Probability: 0.0196\n",
            "\n",
            "For p=0.2:\n",
            "Theoretical Probability: 0.0784\n",
            "Simulated Probability: 0.0784\n",
            "\n",
            "For p=0.3:\n",
            "Theoretical Probability: 0.1719\n",
            "Simulated Probability: 0.1718\n",
            "\n",
            "For p=0.4:\n",
            "Theoretical Probability: 0.2944\n",
            "Simulated Probability: 0.2979\n",
            "\n",
            "For p=0.5:\n",
            "Theoretical Probability: 0.4375\n",
            "Simulated Probability: 0.4360\n",
            "\n",
            "For p=0.6:\n",
            "Theoretical Probability: 0.5904\n",
            "Simulated Probability: 0.5909\n",
            "\n",
            "For p=0.7:\n",
            "Theoretical Probability: 0.7399\n",
            "Simulated Probability: 0.7390\n",
            "\n",
            "For p=0.8:\n",
            "Theoretical Probability: 0.8704\n",
            "Simulated Probability: 0.8707\n",
            "\n",
            "For p=0.9:\n",
            "Theoretical Probability: 0.9639\n",
            "Simulated Probability: 0.9636\n",
            "\n"
          ]
        }
      ],
      "source": [
        "import numpy as np\n",
        "\n",
        "def percolation_probability_theoretical(p):\n",
        "    return p**2 * (2 - p**2)\n",
        "\n",
        "def simulate_column_percolation(p, num_trials=100000):\n",
        "    percolates = 0\n",
        "    for _ in range(num_trials):\n",
        "        # Generate a 2x2 system and check if it percolates through columns\n",
        "        system = np.random.rand(2, 2) < p\n",
        "        if np.any(np.all(system, axis=0)):  # Check if any column is open\n",
        "            percolates += 1\n",
        "    return percolates / num_trials\n",
        "\n",
        "# Values of p to test\n",
        "p_values = [0.1, 0.2, 0.3, 0.4, 0.5, 0.6, 0.7, 0.8, 0.9]\n",
        "\n",
        "# Compare theoretical and simulated percolation probabilities for columns\n",
        "for p in p_values:\n",
        "    theoretical_prob = percolation_probability_theoretical(p)\n",
        "    simulated_prob = simulate_column_percolation(p)\n",
        "    \n",
        "    print(f'For p={p}:')\n",
        "    print(f'Theoretical Probability: {theoretical_prob:.4f}')\n",
        "    print(f'Simulated Probability: {simulated_prob:.4f}\\n')\n",
        "\n"
      ]
    },
    {
      "cell_type": "code",
      "execution_count": 28,
      "metadata": {},
      "outputs": [
        {
          "name": "stdout",
          "output_type": "stream",
          "text": [
            "For p=0.0: Mean Hamming Distance = 0.0000\n",
            "For p=0.1: Mean Hamming Distance = 18.3509\n",
            "For p=0.2: Mean Hamming Distance = 32.2604\n",
            "For p=0.3: Mean Hamming Distance = 41.9479\n",
            "For p=0.4: Mean Hamming Distance = 47.9319\n",
            "For p=0.5: Mean Hamming Distance = 49.9758\n",
            "For p=0.6: Mean Hamming Distance = 47.7442\n",
            "For p=0.7: Mean Hamming Distance = 42.0822\n",
            "For p=0.8: Mean Hamming Distance = 32.2301\n",
            "For p=0.9: Mean Hamming Distance = 17.7537\n",
            "For p=1.0: Mean Hamming Distance = 0.0000\n"
          ]
        }
      ],
      "source": [
        "import numpy as np\n",
        "from itertools import combinations\n",
        "\n",
        "def generate_binary_vector(size, p):\n",
        "    return np.random.choice([0, 1], size=size, p=[1-p, p])\n",
        "\n",
        "def hamming_distance(vector1, vector2):\n",
        "    return np.sum(vector1 != vector2)\n",
        "\n",
        "def mean_hamming_distance(p, num_vectors=100):\n",
        "    size = 100\n",
        "    vectors = [generate_binary_vector(size, p) for _ in range(num_vectors)]\n",
        "    #print (vectors)\n",
        "\n",
        "    total_distance = 0\n",
        "    count = 0\n",
        "\n",
        "    for pair in combinations(vectors, 2):\n",
        "        total_distance += hamming_distance(pair[0], pair[1])\n",
        "        count += 1\n",
        "\n",
        "    return total_distance / count\n",
        "\n",
        "# Values of p to test\n",
        "p_values = [0.0, 0.1, 0.2, 0.3, 0.4, 0.5, 0.6, 0.7, 0.8, 0.9, 1.0]\n",
        "\n",
        "# Calculate and print mean Hamming distance for each p\n",
        "for p in p_values:\n",
        "    mean_distance = mean_hamming_distance(p)\n",
        "    print(f\"For p={p}: Mean Hamming Distance = {mean_distance:.4f}\")\n"
      ]
    }
  ],
  "metadata": {
    "colab": {
      "provenance": []
    },
    "kernelspec": {
      "display_name": "Python 3",
      "language": "python",
      "name": "python3"
    },
    "language_info": {
      "codemirror_mode": {
        "name": "ipython",
        "version": 3
      },
      "file_extension": ".py",
      "mimetype": "text/x-python",
      "name": "python",
      "nbconvert_exporter": "python",
      "pygments_lexer": "ipython3",
      "version": "3.11.5"
    }
  },
  "nbformat": 4,
  "nbformat_minor": 0
}
